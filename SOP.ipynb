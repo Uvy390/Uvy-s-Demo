{
 "cells": [
  {
   "cell_type": "markdown",
   "id": "31e94007",
   "metadata": {},
   "source": [
    "## **Table of Contents**\n",
    "- [Setting up Environment](#setting-up-environment)\n",
    "- [Setting up samplesheet.tsv](#setting-up-samplesheettsv)\n",
    "- [Setting up metadata.tsv](#setting-up-metadatatsv)\n"
   ]
  },
  {
   "cell_type": "markdown",
   "id": "3d63bc49",
   "metadata": {},
   "source": [
    "\n",
    "## **Setting up Environment**\n",
    "So first we will just setup and enviorment on conda (or your profile of choice). \n",
    "\n"
   ]
  },
  {
   "cell_type": "code",
   "execution_count": null,
   "id": "2e2e541d",
   "metadata": {
    "vscode": {
     "languageId": "shellscript"
    }
   },
   "outputs": [],
   "source": [
    "\n",
    "conda create --name uvisdemo "
   ]
  },
  {
   "cell_type": "markdown",
   "id": "8ec7a851",
   "metadata": {},
   "source": [
    "Next as this is a nextflow pipeline we will have to install nextflow."
   ]
  },
  {
   "cell_type": "code",
   "execution_count": null,
   "id": "4521b361",
   "metadata": {
    "vscode": {
     "languageId": "shellscript"
    }
   },
   "outputs": [],
   "source": [
    "conda install bioconda::nextflow"
   ]
  },
  {
   "cell_type": "markdown",
   "id": "e85b263f",
   "metadata": {},
   "source": [
    "## **Setting up samplesheet.tsv**\n",
    "Next setting up a samplesheet for our samples is crucial. \n",
    "The samples we will be using are:"
   ]
  },
  {
   "attachments": {
    "image.png": {
     "image/png": "[encoded data removed]"
    }
   },
   "cell_type": "markdown",
   "id": "d4f5f798",
   "metadata": {},
   "source": [
    "![image.png](attachment:image.png)"
   ]
  }
 ],
 "metadata": {
  "kernelspec": {
   "display_name": "base",
   "language": "python",
   "name": "python3"
  },
  "language_info": {
   "name": "python",
   "version": "3.13.2"
  }
 },
 "nbformat": 4,
 "nbformat_minor": 5
}
